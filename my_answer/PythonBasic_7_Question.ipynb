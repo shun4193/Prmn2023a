{
  "nbformat": 4,
  "nbformat_minor": 0,
  "metadata": {
    "colab": {
      "provenance": [],
      "include_colab_link": true
    },
    "kernelspec": {
      "name": "python3",
      "display_name": "Python 3"
    },
    "language_info": {
      "name": "python"
    }
  },
  "cells": [
    {
      "cell_type": "markdown",
      "metadata": {
        "id": "view-in-github",
        "colab_type": "text"
      },
      "source": [
        "<a href=\"https://colab.research.google.com/github/shun4193/Prmn2023a/blob/main/my_answer/PythonBasic_7_Question.ipynb\" target=\"_parent\"><img src=\"https://colab.research.google.com/assets/colab-badge.svg\" alt=\"Open In Colab\"/></a>"
      ]
    },
    {
      "cell_type": "markdown",
      "source": [
        "# 第7章 課題"
      ],
      "metadata": {
        "id": "JR-0wWX5GOz4"
      }
    },
    {
      "cell_type": "markdown",
      "source": [
        "## 課題1"
      ],
      "metadata": {
        "id": "a-2Yu9QBGREf"
      }
    },
    {
      "cell_type": "markdown",
      "source": [
        "`ppap.txt`をアップロードしてください。\n",
        "\n",
        "ピコ太郎さんの「PPAP」という歌の歌詞が書かれています。\n",
        "まずはこのテキストファイルから歌詞を読み込んでください。"
      ],
      "metadata": {
        "id": "icanGSBB6KCB"
      }
    },
    {
      "cell_type": "markdown",
      "source": [
        "歌詞の単語の登場回数を数え、\n",
        "出現回数の多い順にソートしたディクショナリを関数で返してください\n",
        "\n",
        "その後、そのディクショナリを出力してください"
      ],
      "metadata": {
        "id": "Wy8Sx90f6WTB"
      }
    },
    {
      "cell_type": "markdown",
      "source": [
        "＜実行結果＞\n",
        "``` py\n",
        "{'pen': 8, 'i': 4, 'have': 4, 'apple': 4, 'pineapple': 4, 'a': 3, 'ppap': 1, 'an': 1}\n",
        "```"
      ],
      "metadata": {
        "id": "0Z2-_1dAQENU"
      }
    },
    {
      "cell_type": "code",
      "source": [
        "# 入力用（テキスト読み込み）\n",
        "text_list = []\n",
        "with open(\"ppap.txt\",mode=\"r+\") as f:\n",
        "  text = f.read()"
      ],
      "metadata": {
        "id": "5DzB6nze6d65"
      },
      "execution_count": 10,
      "outputs": []
    },
    {
      "cell_type": "code",
      "source": [
        "# 入力用（カウントとメイン部分）\n",
        "import string\n",
        "\n",
        "def word_count(text):\n",
        "  text = text.replace(\"！\",\"\")\n",
        "  text = text.replace(\"-\",\" \")\n",
        "  text = text.translate(str.maketrans('', '', string.punctuation))\n",
        "  text = text.lower()\n",
        "  set_text = set(text.split())\n",
        "  split_text = text.split()\n",
        "  cnt_text = {}\n",
        "  for i in split_text:\n",
        "    for j in set_text:\n",
        "      cnt_text[j] = split_text.count(j)\n",
        "    sorted_dic = dict(sorted(cnt_text.items(),key=lambda x:x[1],reverse = True))\n",
        "  return sorted_dic\n",
        "\n",
        "sorted_dic = word_count(text)\n",
        "print(sorted_dic)"
      ],
      "metadata": {
        "id": "NHsFskbC6fzq",
        "colab": {
          "base_uri": "https://localhost:8080/"
        },
        "outputId": "d6f7b26b-63b3-4453-a3cf-022f8829ba3f"
      },
      "execution_count": 13,
      "outputs": [
        {
          "output_type": "stream",
          "name": "stdout",
          "text": [
            "{'pen': 8, 'i': 4, 'have': 4, 'apple': 4, 'pineapple': 4, 'a': 3, 'an': 1, 'ppap': 1}\n"
          ]
        }
      ]
    },
    {
      "cell_type": "markdown",
      "source": [
        "## 課題2"
      ],
      "metadata": {
        "id": "dSQu_cY6EpMk"
      }
    },
    {
      "cell_type": "markdown",
      "source": [
        "`toukei_seiseki.txt`をアップロードしてください。\n",
        "\n",
        "とある人の統計学の成績データになります。"
      ],
      "metadata": {
        "id": "b-ekHtnVEwsO"
      }
    },
    {
      "cell_type": "markdown",
      "source": [
        "成績評価を0~5の6段階でつけたいものとします。\n",
        "\n",
        "|成績|点数|\n",
        "|:---| :--- |\n",
        "|$A$|5|\n",
        "|$B^{+}$|4|\n",
        "|$B$|3|\n",
        "|$B^{-}$|2|\n",
        "|$C^{+}$|1|\n",
        "|$C$|0|\n"
      ],
      "metadata": {
        "id": "L3i6Z8xg9eHr"
      }
    },
    {
      "cell_type": "markdown",
      "source": [
        "上表のように成績を変換する関数を作成してください"
      ],
      "metadata": {
        "id": "EdC2oqvr9eHs"
      }
    },
    {
      "cell_type": "markdown",
      "source": [
        "この科目は、「5×全15回=最大点75点」に、\n",
        "「全14回×50点=最大点700点を25点に圧縮したもの」の和によって成績判定を行います。"
      ],
      "metadata": {
        "id": "CbT-Ni7g9eHs"
      }
    },
    {
      "cell_type": "markdown",
      "source": [
        "適切に関数を使い、以下のデータの成績評価を行えるようにしてください\n",
        "\n",
        "\n"
      ],
      "metadata": {
        "id": "lrIoPU8b9eHs"
      }
    },
    {
      "cell_type": "markdown",
      "source": [
        "＜例＞\n",
        "小テストの合計点は600点だったので25点満点に圧縮すると21.42点\n",
        "課題は全て$B^+$評価だったので4×15=60点\n",
        "合計点81.42点なので評定は「優」"
      ],
      "metadata": {
        "id": "-QKViYIF9eHt"
      }
    },
    {
      "cell_type": "code",
      "source": [
        "# 入力用\n",
        "def read_data():\n",
        "  ret = []\n",
        "  with open(\"toukei_seiseki.txt\",mode=\"r+\") as f:\n",
        "    seiseki = f.read().splitlines()\n",
        "    for i in seiseki:\n",
        "      ret.append(i.split())\n",
        "  return ret\n",
        "\n",
        "def seiseki_replace():\n",
        "  replace_data = []\n",
        "  for i in seiseki_data[\"課題\"]:\n",
        "    i = i.replace(\"A\",\"5\").replace(\"B+\",\"4\").replace(\"B\",\"3\").replace(\"B-\",\"2\").replace(\"C+\",\"1\").replace(\"C\",\"0\")\n",
        "    replace_data.append(i)\n",
        "  return replace_data\n",
        "\n",
        "seiseki = read_data()\n",
        "seiseki_data = {\"課題\":[],\"小テスト\":[]}\n",
        "for i in range(2,17):\n",
        "  for j in range(1,3):\n",
        "    if len(seiseki[i]) == j:\n",
        "      continue;\n",
        "    seiseki_data[seiseki[1][j]].append(seiseki[i][j])\n",
        "replace_data = seiseki_replace()\n",
        "score = 0\n",
        "for i in replace_data:\n",
        "  score += int(i)\n",
        "for i in seiseki_data[\"小テスト\"]:\n",
        "  score += int(i) * 25 / 700\n",
        "if 90 <= score:\n",
        "  print(\"秀\")\n",
        "elif 80 <= score and score < 90:\n",
        "  print(\"優\")\n",
        "elif 70 <= score and score < 80:\n",
        "  print(\"良\")\n",
        "elif 60 <= score and score < 70:\n",
        "  print(\"可\")\n",
        "else:\n",
        "  print(\"不可\")\n",
        "\n",
        ""
      ],
      "metadata": {
        "id": "vZ1lU1LLGX2j",
        "colab": {
          "base_uri": "https://localhost:8080/"
        },
        "outputId": "0dd3b871-9ec0-4c78-fe7b-8f3783c9e94f"
      },
      "execution_count": 67,
      "outputs": [
        {
          "output_type": "stream",
          "name": "stdout",
          "text": [
            "秀\n"
          ]
        }
      ]
    },
    {
      "cell_type": "code",
      "source": [
        "# 参考 成績データの空ディクショナリ\n",
        "test_data = {\"課題\":[],\"小テスト\":[]}"
      ],
      "metadata": {
        "id": "B6heQ-a8Fk2C"
      },
      "execution_count": null,
      "outputs": []
    },
    {
      "cell_type": "markdown",
      "source": [
        "### 課題2 補足"
      ],
      "metadata": {
        "id": "E8ZRqBlkGW2D"
      }
    },
    {
      "cell_type": "markdown",
      "source": [
        "文字列を置換したいときは**`replace`メソッド**を使います。\n",
        "\n",
        "複数回行いたいときは`replace`メソッドを複数回続けます。"
      ],
      "metadata": {
        "id": "s4IPiuNZGd96"
      }
    },
    {
      "cell_type": "code",
      "source": [
        "hantei_list = [\"60\",\"70\",\"80\",\"90\"]\n",
        "kekka_list = []\n",
        "\n",
        "\"\"\"\n",
        "リストから要素を取り出して指定の値を置換する\n",
        "\"\"\"\n",
        "for hantei in hantei_list:\n",
        "  hantei = hantei.replace(\"60\",\"可\").replace(\"70\",\"良\").replace(\"80\",\"優\").replace(\"90\",\"秀\")\n",
        "  kekka_list.append(hantei)\n",
        "\n",
        "print(kekka_list)"
      ],
      "metadata": {
        "colab": {
          "base_uri": "https://localhost:8080/"
        },
        "id": "83OyhJkDGupg",
        "outputId": "f242a522-4daf-4bf7-a2ec-76a9b2b8c04a"
      },
      "execution_count": null,
      "outputs": [
        {
          "output_type": "stream",
          "name": "stdout",
          "text": [
            "['可', '良', '優', '秀']\n"
          ]
        }
      ]
    },
    {
      "cell_type": "markdown",
      "source": [
        "## 課題3"
      ],
      "metadata": {
        "id": "ImanFioRIU6F"
      }
    },
    {
      "cell_type": "markdown",
      "source": [
        "`all_seiseki.txt`をアップロードしてください。\n",
        "\n",
        "とある人の2年春学期までの成績データになります。"
      ],
      "metadata": {
        "id": "9Q_HBLgfIXVf"
      }
    },
    {
      "cell_type": "markdown",
      "source": [
        "GPAを計算したいものとします。\n",
        "成績に付与されるGPは以下の通りです。\n",
        "\n",
        "|成績|GP|\n",
        "|:---| :--- |\n",
        "|秀|4|\n",
        "|優|3|\n",
        "|良|2|\n",
        "|可|1|\n",
        "|不可|0|"
      ],
      "metadata": {
        "id": "wimEVJZUMWoL"
      }
    },
    {
      "cell_type": "markdown",
      "source": [
        "上表のように成績を変換する関数を作成してください"
      ],
      "metadata": {
        "id": "vLfMefKLNZsq"
      }
    },
    {
      "cell_type": "markdown",
      "source": [
        "GPAの計算式は以下の通りです。\n",
        "$$\n",
        "GPA = \\frac{(GP×そのGPの単位数) の合計}{履修単位数}\n",
        "$$"
      ],
      "metadata": {
        "id": "pJ-Cltm9NbZ6"
      }
    },
    {
      "cell_type": "markdown",
      "source": [
        "適切に関数を使い、テキストデータのGPAを算出してください"
      ],
      "metadata": {
        "id": "k_jm9pzkOFAw"
      }
    },
    {
      "cell_type": "code",
      "source": [
        "# 入力用\n",
        "def seiseki_replace():\n",
        "  replace_data = []\n",
        "  for i in seiseki_data[\"成績\"]:\n",
        "    i = i.replace(\"秀\",\"4\").replace(\"優\",\"3\").replace(\"良\",\"2\").replace(\"可\",\"1\").replace(\"不可\",\"0\")\n",
        "    replace_data.append(i)\n",
        "  return replace_data\n",
        "\n",
        "one_unit_class = []\n",
        "seiseki_data = {\"科目名\":[],\"成績\":[]}\n",
        "all_seiseki_data = []\n",
        "with open(\"all_seiseki.txt\",mode=\"r+\") as f:\n",
        "  all_seiseki = f.read().splitlines()\n",
        "  for i in all_seiseki:\n",
        "    all_seiseki_data.append(i.split())\n",
        "for i in range(1,len(all_seiseki_data)):\n",
        "  for j in range(3,5):\n",
        "    seiseki_data[all_seiseki_data[0][j]].append(all_seiseki_data[i][j])\n",
        "for i in range(1,len(all_seiseki_data)):\n",
        "  if all_seiseki_data[i][5] == '1':\n",
        "    one_unit_class.append(all_seiseki_data[i][3])\n",
        "seiseki_sum = 0\n",
        "sum = 0\n",
        "replace_data = seiseki_replace()\n",
        "for i in replace_data:\n",
        "  if i in one_unit_class:\n",
        "    sum += 1\n",
        "    seiseki_sum += int(i)\n",
        "  else:\n",
        "    sum += 2\n",
        "    seiseki_sum += int(i) * 2\n",
        "GPA = seiseki_sum / sum\n",
        "print(f\"GPA:{GPA}\")"
      ],
      "metadata": {
        "id": "4_KjT73rJAkT",
        "colab": {
          "base_uri": "https://localhost:8080/"
        },
        "outputId": "e85770f8-c741-4535-bfdf-88a095c5b125"
      },
      "execution_count": 83,
      "outputs": [
        {
          "output_type": "stream",
          "name": "stdout",
          "text": [
            "GPA:3.3142857142857145\n"
          ]
        }
      ]
    },
    {
      "cell_type": "code",
      "source": [
        "# 参考 1単位の授業をまとめたリスト\n",
        "one_unit_class = []"
      ],
      "metadata": {
        "id": "LiCCAoDqJA5r"
      },
      "execution_count": null,
      "outputs": []
    },
    {
      "cell_type": "code",
      "source": [
        "# 参考 成績データの空ディクショナリ\n",
        "seiseki_data = {\"授業\":[],\"成績\":[]}"
      ],
      "metadata": {
        "id": "AUVzFPP1JJlO"
      },
      "execution_count": null,
      "outputs": []
    }
  ]
}
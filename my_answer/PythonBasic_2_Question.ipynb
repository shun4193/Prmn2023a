{
  "nbformat": 4,
  "nbformat_minor": 0,
  "metadata": {
    "colab": {
      "provenance": [],
      "toc_visible": true,
      "include_colab_link": true
    },
    "kernelspec": {
      "name": "python3",
      "display_name": "Python 3"
    },
    "language_info": {
      "name": "python"
    }
  },
  "cells": [
    {
      "cell_type": "markdown",
      "metadata": {
        "id": "view-in-github",
        "colab_type": "text"
      },
      "source": [
        "<a href=\"https://colab.research.google.com/github/shun4193/Prmn2023a/blob/main/my_answer/PythonBasic_2_Question.ipynb\" target=\"_parent\"><img src=\"https://colab.research.google.com/assets/colab-badge.svg\" alt=\"Open In Colab\"/></a>"
      ]
    },
    {
      "cell_type": "markdown",
      "source": [
        "# 第2章 課題"
      ],
      "metadata": {
        "id": "C44SsXDACtHu"
      }
    },
    {
      "cell_type": "markdown",
      "source": [
        "## 課題1"
      ],
      "metadata": {
        "id": "OnkezWHRCwr9"
      }
    },
    {
      "cell_type": "markdown",
      "source": [
        "for文を使って、以下のように出力してください"
      ],
      "metadata": {
        "id": "q32rK-cECzCl"
      }
    },
    {
      "cell_type": "markdown",
      "source": [
        "![oSFeQoX.png](https://i.imgur.com/oSFeQoX.png)"
      ],
      "metadata": {
        "id": "FxMcxznVB6cI"
      }
    },
    {
      "cell_type": "code",
      "source": [
        "#  入力用\n",
        "for i in range(3,-1,-1):\n",
        "   print(\" \" * i + \"*\" * (7 - (2 * i)) + \" \" * i)"
      ],
      "metadata": {
        "id": "iBFSsrdRC5Zt",
        "colab": {
          "base_uri": "https://localhost:8080/"
        },
        "outputId": "20023e70-9600-40b5-c2ae-10fb8a0327d2"
      },
      "execution_count": 100,
      "outputs": [
        {
          "output_type": "stream",
          "name": "stdout",
          "text": [
            "   *   \n",
            "  ***  \n",
            " ***** \n",
            "*******\n"
          ]
        }
      ]
    },
    {
      "cell_type": "markdown",
      "source": [
        "## 課題2"
      ],
      "metadata": {
        "id": "gIn-UqGTCagu"
      }
    },
    {
      "cell_type": "markdown",
      "source": [
        "課題1の場合を`n=4`として、nを自分で設定して出力できるようにしてください"
      ],
      "metadata": {
        "id": "ltdiEdqYDFy8"
      }
    },
    {
      "cell_type": "markdown",
      "source": [
        "＜例＞ n=5の場合  \n",
        "![o5NjugQ.png](https://imgur.com/o5NjugQ.png)"
      ],
      "metadata": {
        "id": "hw0FM8BRDHz1"
      }
    },
    {
      "cell_type": "code",
      "source": [
        "# 入力用\n",
        "n = int(input())\n",
        "for i in range(n-1,-1,-1):\n",
        "  print(\" \" * i + \"*\" * ((2 * (n - 1) + 1) - (2 * i)) + \" \" * i)"
      ],
      "metadata": {
        "id": "upd76Tv-FrIB",
        "colab": {
          "base_uri": "https://localhost:8080/"
        },
        "outputId": "814f41d4-2934-4db8-90a9-d1a81fe0c13a"
      },
      "execution_count": 59,
      "outputs": [
        {
          "output_type": "stream",
          "name": "stdout",
          "text": [
            "5\n",
            "          \n",
            "    *    \n",
            "   ***   \n",
            "  *****  \n",
            " ******* \n",
            "*********\n"
          ]
        }
      ]
    },
    {
      "cell_type": "markdown",
      "source": [
        "## 課題3"
      ],
      "metadata": {
        "id": "tLMJvwBDE7wT"
      }
    },
    {
      "cell_type": "markdown",
      "source": [
        "for文を使って、以下のように出力してください"
      ],
      "metadata": {
        "id": "vZNvWsG7E99q"
      }
    },
    {
      "cell_type": "markdown",
      "source": [
        "![oSirXec.png](https://imgur.com/oSirXec.png)"
      ],
      "metadata": {
        "id": "ijOV-ilXGDNR"
      }
    },
    {
      "cell_type": "code",
      "source": [
        "# 入力用\n",
        "for i in range(3,-1,-1):\n",
        "  print(\" \" * i + \"*\" * (7 - (2 * i)) + \" \" * i)\n",
        "for i in range(1,4):\n",
        "  print(\" \" * i + \"*\" * (7 - (2 * i)) + \" \" * i)\n",
        "\n"
      ],
      "metadata": {
        "id": "Q5Ob9uZpGIE3",
        "colab": {
          "base_uri": "https://localhost:8080/"
        },
        "outputId": "2c7108b2-d969-4b90-88f4-358c2647378c"
      },
      "execution_count": 101,
      "outputs": [
        {
          "output_type": "stream",
          "name": "stdout",
          "text": [
            "   *   \n",
            "  ***  \n",
            " ***** \n",
            "*******\n",
            " ***** \n",
            "  ***  \n",
            "   *   \n"
          ]
        }
      ]
    },
    {
      "cell_type": "markdown",
      "source": [
        "## 課題4"
      ],
      "metadata": {
        "id": "Oh7whOPkGQ3I"
      }
    },
    {
      "cell_type": "markdown",
      "source": [
        "課題3の場合を`n=4`として、nを自分で設定して出力できるようにしてください"
      ],
      "metadata": {
        "id": "PnvT8MQbGS03"
      }
    },
    {
      "cell_type": "markdown",
      "source": [
        "＜例＞ n=5の場合  \n",
        "\n",
        "![my4J17V.png](https://i.imgur.com/my4J17V.png)"
      ],
      "metadata": {
        "id": "ZujkAbVMGzhn"
      }
    },
    {
      "cell_type": "code",
      "source": [
        "# 入力用\n",
        "n = int(input())\n",
        "for i in range(n-1,-1,-1):\n",
        "  print(\" \" * i + \"*\" * ((2 * (n - 1) + 1) - (2 * i)) + \" \" * i)\n",
        "for i in range(1,n):\n",
        "  print(\" \" * i + \"*\" * ((2 * (n - 1) + 1) - (2 * i)) + \" \" * i)"
      ],
      "metadata": {
        "id": "hCFNQ7mWG99u",
        "colab": {
          "base_uri": "https://localhost:8080/"
        },
        "outputId": "5e19a695-fb74-4375-a770-6796d8c3fc2b"
      },
      "execution_count": 102,
      "outputs": [
        {
          "output_type": "stream",
          "name": "stdout",
          "text": [
            "5\n",
            "    *    \n",
            "   ***   \n",
            "  *****  \n",
            " ******* \n",
            "*********\n",
            " ******* \n",
            "  *****  \n",
            "   ***   \n",
            "    *    \n"
          ]
        }
      ]
    },
    {
      "cell_type": "markdown",
      "source": [
        "## 課題5"
      ],
      "metadata": {
        "id": "R2MvOK4wHJlK"
      }
    },
    {
      "cell_type": "markdown",
      "source": [
        "for文を使って、以下のように出力してください"
      ],
      "metadata": {
        "id": "ddMIUoaKHcwd"
      }
    },
    {
      "cell_type": "markdown",
      "source": [
        "![vDUi5eM.png](https://imgur.com/vDUi5eM.png)"
      ],
      "metadata": {
        "id": "CD1cVUlWHLVO"
      }
    },
    {
      "cell_type": "code",
      "source": [
        "#  入力用\n",
        "for i in range(3,-1,-1):\n",
        "  if i != 0:\n",
        "    print(\" \" * i + \"*\" * (7 - (2 * i)) + \" \" * (2 * i - 1) + \"*\" * (7 - (2 * i)) + \" \" * i)\n",
        "  else:\n",
        "    print(\" \" * i + \"*\" * (7 - (2 * i)) + \" \" * (2 * i - 1) + \"*\" * (7 - (2 * i) - 1) + \" \" * i)\n",
        "for i in range(1,4):\n",
        "  print(\" \" * i + \"*\" * (7 - (2 * i)) + \" \" * (2 * i - 1) + \"*\" * (7 - (2 * i)) + \" \" * i)"
      ],
      "metadata": {
        "id": "1pDkfJpUHd93",
        "colab": {
          "base_uri": "https://localhost:8080/"
        },
        "outputId": "e7fb8989-46f7-4778-bafe-bba0160b5dc7"
      },
      "execution_count": 103,
      "outputs": [
        {
          "output_type": "stream",
          "name": "stdout",
          "text": [
            "   *     *   \n",
            "  ***   ***  \n",
            " ***** ***** \n",
            "*************\n",
            " ***** ***** \n",
            "  ***   ***  \n",
            "   *     *   \n"
          ]
        }
      ]
    },
    {
      "cell_type": "markdown",
      "source": [
        "## 課題6"
      ],
      "metadata": {
        "id": "oubbafOBHerl"
      }
    },
    {
      "cell_type": "markdown",
      "source": [
        "課題5の場合を`n=4`として、nを自分で設定して出力できるようにしてください"
      ],
      "metadata": {
        "id": "7SzgFdC-HzG9"
      }
    },
    {
      "cell_type": "markdown",
      "source": [
        "＜例＞ n=5の場合  \n",
        "\n",
        "![udkVlYG.png](https://imgur.com/udkVlYG.png)"
      ],
      "metadata": {
        "id": "LY8g9PVPH2OW"
      }
    },
    {
      "cell_type": "code",
      "source": [
        "# 入力用\n",
        "n = int(input())\n",
        "for i in range(n-1,-1,-1):\n",
        "  if i != 0:\n",
        "    print(\" \" * i + \"*\" * ((2 * (n - 1) + 1) - (2 * i)) + \" \" * (2 * i - 1) + \"*\" * ((2 * (n - 1) + 1) - (2 * i)) + \" \" * i)\n",
        "  else:\n",
        "    print(\" \" * i + \"*\" * ((2 * (n - 1) + 1) - (2 * i)) + \" \" * (2 * i - 1) + \"*\" * ((2 * (n - 1) + 1) - (2 * i) - 1) + \" \" * i)\n",
        "for i in range(1,n):\n",
        "  print(\" \" * i + \"*\" * ((2 * (n - 1) + 1) - (2 * i)) + \" \" * (2 * i - 1) + \"*\" * ((2 * (n - 1) + 1) - (2 * i)) + \" \" * i)\n"
      ],
      "metadata": {
        "id": "XZOK5ulbH-tu",
        "colab": {
          "base_uri": "https://localhost:8080/"
        },
        "outputId": "503afaec-0af4-4440-d9b3-d4ebe341a6f0"
      },
      "execution_count": 104,
      "outputs": [
        {
          "output_type": "stream",
          "name": "stdout",
          "text": [
            "5\n",
            "    *       *    \n",
            "   ***     ***   \n",
            "  *****   *****  \n",
            " ******* ******* \n",
            "*****************\n",
            " ******* ******* \n",
            "  *****   *****  \n",
            "   ***     ***   \n",
            "    *       *    \n"
          ]
        }
      ]
    },
    {
      "cell_type": "markdown",
      "source": [
        "## 課題7"
      ],
      "metadata": {
        "id": "ouqTUmPQIKGF"
      }
    },
    {
      "cell_type": "markdown",
      "source": [
        "for文を使って、以下のように出力してください"
      ],
      "metadata": {
        "id": "WHSxdOHuIMRM"
      }
    },
    {
      "cell_type": "markdown",
      "source": [
        "![IuP0M16.png](https://imgur.com/IuP0M16.png)"
      ],
      "metadata": {
        "id": "-G--WFTkIM8s"
      }
    },
    {
      "cell_type": "code",
      "source": [
        "# 入力用\n",
        "for i in range(3,-1,-1):\n",
        "  if i != 0:\n",
        "    print(\" \" * i + \"*\" * (7 - (2 * i)) + \" \" * (2 * i - 1) + \"*\" * (7 - (2 * i)) + \" \" * i)\n",
        "  else:\n",
        "    print(\" \" * i + \"*\" * (7 - (2 * i)) + \" \" * (2 * i - 1) + \"*\" * (7 - (2 * i) - 1) + \" \" * i)\n",
        "for i in range(1,3):\n",
        "  print(\" \" * i + \"*\" * (7 - (2 * i)) + \" \" * (2 * i - 1) + \"*\" * (7 - (2 * i)) + \" \" * i)\n",
        "for i in range(3,-1,-1):\n",
        "    if i != 0:\n",
        "      print(\" \" * i + \"*\" * (7 - (2 * i)) + \" \" * (2 * i - 1) + \"*\" * (7 - (2 * i)) + \" \" * i)\n",
        "    else:\n",
        "      print(\" \" * i + \"*\" * (7 - (2 * i)) + \" \" * (2 * i - 1) + \"*\" * (7 - (2 * i) - 1) + \" \" * i)\n",
        "for i in range(1,4):\n",
        "  print(\" \" * i + \"*\" * (7 - (2 * i)) + \" \" * (2 * i - 1) + \"*\" * (7 - (2 * i)) + \" \" * i)"
      ],
      "metadata": {
        "id": "BVXjDteuIijL",
        "colab": {
          "base_uri": "https://localhost:8080/"
        },
        "outputId": "5c4f87f2-56a4-4e3f-d120-5d44aae1d5b1"
      },
      "execution_count": 98,
      "outputs": [
        {
          "output_type": "stream",
          "name": "stdout",
          "text": [
            "   *     *   \n",
            "  ***   ***  \n",
            " ***** ***** \n",
            "*************\n",
            " ***** ***** \n",
            "  ***   ***  \n",
            "   *     *   \n",
            "  ***   ***  \n",
            " ***** ***** \n",
            "*************\n",
            " ***** ***** \n",
            "  ***   ***  \n",
            "   *     *   \n"
          ]
        }
      ]
    },
    {
      "cell_type": "markdown",
      "source": [
        "## 課題8"
      ],
      "metadata": {
        "id": "31u0ExX2IjWj"
      }
    },
    {
      "cell_type": "markdown",
      "source": [
        "課題7の場合を`n=4`として、nを自分で設定して出力できるようにしてください"
      ],
      "metadata": {
        "id": "zeOvmKarInpz"
      }
    },
    {
      "cell_type": "markdown",
      "source": [
        "＜例＞ n=5の場合  \n",
        "\n",
        "![AlTnu1k.png](https://imgur.com/AlTnu1k.png)"
      ],
      "metadata": {
        "id": "2uLR5sbKIov2"
      }
    },
    {
      "cell_type": "code",
      "source": [
        "# 入力用\n",
        "n = int(input())\n",
        "for i in range(n-1,-1,-1):\n",
        "  if i != 0:\n",
        "    print(\" \" * i + \"*\" * ((2 * (n - 1) + 1) - (2 * i)) + \" \" * (2 * i - 1) + \"*\" * ((2 * (n - 1) + 1) - (2 * i)) + \" \" * i)\n",
        "  else:\n",
        "    print(\" \" * i + \"*\" * ((2 * (n - 1) + 1) - (2 * i)) + \" \" * (2 * i - 1) + \"*\" * ((2 * (n - 1) + 1) - (2 * i) - 1) + \" \" * i)\n",
        "for i in range(1,n-1):\n",
        "  print(\" \" * i + \"*\" * ((2 * (n - 1) + 1) - (2 * i)) + \" \" * (2 * i - 1) + \"*\" * ((2 * (n - 1) + 1) - (2 * i)) + \" \" * i)\n",
        "for i in range(n-1,-1,-1):\n",
        "    if i != 0:\n",
        "      print(\" \" * i + \"*\" * ((2 * (n - 1) + 1) - (2 * i)) + \" \" * (2 * i - 1) + \"*\" * ((2 * (n - 1) + 1) - (2 * i)) + \" \" * i)\n",
        "    else:\n",
        "      print(\" \" * i + \"*\" * ((2 * (n - 1) + 1) - (2 * i)) + \" \" * ((2 * (n - 1) + 1) * i - 1) + \"*\" * ((2 * (n - 1) + 1) - (2 * i) - 1) + \" \" * i)\n",
        "for i in range(1,n):\n",
        "  print(\" \" * i + \"*\" * ((2 * (n - 1) + 1) - (2 * i)) + \" \" * (2 * i - 1) + \"*\" * ((2 * (n - 1) + 1) - (2 * i)) + \" \" * i)"
      ],
      "metadata": {
        "id": "TXJaIVbYI_Cd",
        "colab": {
          "base_uri": "https://localhost:8080/"
        },
        "outputId": "ad5ebcd1-3fe0-4591-cfc9-16aee5c366d5"
      },
      "execution_count": 105,
      "outputs": [
        {
          "output_type": "stream",
          "name": "stdout",
          "text": [
            "5\n",
            "    *       *    \n",
            "   ***     ***   \n",
            "  *****   *****  \n",
            " ******* ******* \n",
            "*****************\n",
            " ******* ******* \n",
            "  *****   *****  \n",
            "   ***     ***   \n",
            "    *       *    \n",
            "   ***     ***   \n",
            "  *****   *****  \n",
            " ******* ******* \n",
            "*****************\n",
            " ******* ******* \n",
            "  *****   *****  \n",
            "   ***     ***   \n",
            "    *       *    \n"
          ]
        }
      ]
    }
  ]
}